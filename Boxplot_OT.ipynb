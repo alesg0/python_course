{
 "cells": [
  {
   "cell_type": "code",
   "execution_count": null,
   "id": "6a691cf9",
   "metadata": {},
   "outputs": [],
   "source": [
    "import os\n",
    "import pandas as pd\n",
    "import seaborn as sns\n",
    "import matplotlib.pyplot as plt"
   ]
  },
  {
   "cell_type": "code",
   "execution_count": null,
   "id": "54629bd8",
   "metadata": {},
   "outputs": [],
   "source": [
    "def load_data(fname,conditions):\n",
    "    condition_dfs = []\n",
    "    for condition in conditions:\n",
    "        condition_df = pd.read_excel(io=fname,sheet_name=condition)\n",
    "        condition_dfs.append(condition_df)\n",
    "    return condition_dfs\n",
    "\n",
    "def draw_subplots(data1, data2, title, output_dir):\n",
    "    '''this function takes two dataframes from a .xlsx file and returns a subplot with two boxplots'''\n",
    "    sns.set_theme(style=('ticks'), palette=\"pastel\") # ticks on axis\n",
    "    fig, axs = plt.subplots(2,1,figsize=(7,10))\n",
    "    axs[0].set_title(title)\n",
    "    # LP: suggestion: there's lot of duplicated stuff here. You could do the same with a loop\n",
    "    # over axes and dataframes!\n",
    "    \n",
    "    # for ax, data in zip(axs, [data1, data2]):\n",
    "    #     ...\n",
    "    \n",
    "    sns.boxplot(ax=axs[0], x=\"AREA\", y=\"EXPRESSION\",\n",
    "                hue=\"HABITUATION\", palette=[\"m\", \"g\"],\n",
    "                data=data1, showfliers=False, \n",
    "                boxprops=dict(alpha=.55)).set(xlabel='Area',ylabel=\"Relative Expression/18s\")\n",
    "    sns.stripplot(ax=axs[0], x = \"AREA\", y = \"EXPRESSION\",\n",
    "                  hue=\"HABITUATION\", jitter=True, dodge=True, palette=[\"m\", \"g\"],\n",
    "                  data=data1, edgecolor='black', linewidth=0.5, legend=False)\n",
    "    sns.despine(ax=axs[0], offset=10, trim=True)\n",
    "    sns.boxplot(ax=axs[1], x=\"AREA\", y=\"EXPRESSION\",\n",
    "                hue=\"HABITUATION\", palette=[\"m\", \"g\"],\n",
    "                data=data2, showfliers=False,\n",
    "                boxprops=dict(alpha=.55)).set(xlabel='Area',ylabel=\"Relative Expression/18s\")\n",
    "    sns.stripplot(ax=axs[1], x = \"AREA\", y = \"EXPRESSION\", \n",
    "                  hue=\"HABITUATION\", jitter=True, dodge=True, palette=[\"m\", \"g\"], \n",
    "                  data=data2, edgecolor='black', linewidth=0.5, legend=False)\n",
    "    sns.despine(ax=axs[1], offset=10, trim=True)\n",
    "    plt.savefig(output_dir)\n",
    "    plt.show()"
   ]
  },
  {
   "cell_type": "code",
   "execution_count": null,
   "id": "4d66322b",
   "metadata": {
    "scrolled": true
   },
   "outputs": [],
   "source": [
    "INPUT_FILE = 'Data/OT.xlsx'\n",
    "CONDITIONS = ['familiar_cfos', 'familiar_egr1', \n",
    "              'number_cfos', 'number_egr1',\n",
    "              'shape_cfos', 'shape_egr1',\n",
    "              'biggerArea_cfos',  'biggerArea_egr1',\n",
    "              'smallerArea_cfos','smallerArea_egr1']\n",
    "TITLES = ['Familiar',\n",
    "          'Change in number',\n",
    "          'Change in shape',\n",
    "          'Change in surface (bigger)', \n",
    "          'Change in surface (smaller)']"
   ]
  },
  {
   "cell_type": "code",
   "execution_count": null,
   "id": "1d2dc66f",
   "metadata": {},
   "outputs": [],
   "source": [
    "dfs = load_data(fname=INPUT_FILE,conditions=CONDITIONS)\n",
    "for index, df in enumerate(dfs):\n",
    "    \n",
    "    # LP: This is an aspecific exception, to avoid! the right syntax is:\n",
    "    # try:\n",
    "    #     ...\n",
    "    # except FileExistError:\n",
    "    #     pass or print a warning\n",
    "    \n",
    "    # I would recomment using the pathlib library! there, you can make a dir from the\n",
    "    # Path object with like: \n",
    "    # figure_path = Path(figure_dir)\n",
    "    # figure_path.mkdir(exist_ok=True, parents=True)  # with this argument you do not need to catch the error!\n",
    "    \n",
    "    # Also, note that this string is not saving in Desktop, but on a subfolder of the current directory (./)\n",
    "    # named Desktop! Not sure it's what you meant to do\n",
    "    try:\n",
    "        figure_dir = f'./Desktop/boxplots/{index}'\n",
    "        os.makedirs(figure_dir)\n",
    "    except:   \n",
    "        FileExistsError\n",
    "    draw_subplots(data1=dfs[index],data2=dfs[index+1],title=TITLES[index],output_dir=figure_dir)\n",
    "    if index == 4:\n",
    "        break"
   ]
  },
  {
   "cell_type": "code",
   "execution_count": null,
   "id": "567620e0-51b5-4cfb-b8ec-0044ff5a62c4",
   "metadata": {},
   "outputs": [],
   "source": []
  }
 ],
 "metadata": {
  "kernelspec": {
   "display_name": "Python [conda env:course_env]",
   "language": "python",
   "name": "conda-env-course_env-py"
  },
  "language_info": {
   "codemirror_mode": {
    "name": "ipython",
    "version": 3
   },
   "file_extension": ".py",
   "mimetype": "text/x-python",
   "name": "python",
   "nbconvert_exporter": "python",
   "pygments_lexer": "ipython3",
   "version": "3.9.16"
  }
 },
 "nbformat": 4,
 "nbformat_minor": 5
}
