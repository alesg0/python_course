{
 "cells": [
  {
   "cell_type": "code",
   "execution_count": null,
   "id": "e098f6f8",
   "metadata": {},
   "outputs": [],
   "source": [
    "import os\n",
    "import pandas as pd\n",
    "import numpy as np  # this import was missing - when you are done with a notebook, before closing\n",
    "# everything make sure you restart it and run top to bottom without getting any error!\n",
    "import seaborn as sns\n",
    "import matplotlib.pyplot as plt"
   ]
  },
  {
   "cell_type": "code",
   "execution_count": null,
   "id": "38554519",
   "metadata": {},
   "outputs": [],
   "source": [
    "def preprocess_dataframe(filepath, stimulus):\n",
    "    '''this function takes a .xlsx file from a given directory, transposes it and then drops the selected columns'''\n",
    "    df = pd.read_excel(filepath)\n",
    "    df_stimulus = df.loc[df['STIMULUS'] == stimulus, :]\n",
    "    df_stimulus_transposed = df_stimulus.transpose()\n",
    "    df_stimulus_transposed.columns = df_stimulus_transposed.iloc[0]\n",
    "    df_stimulus_transposed = df_stimulus_transposed.drop(['FISH','STIMULUS'], axis=0)\n",
    "    return df_stimulus_transposed\n",
    "\n",
    "def draw_plots(clean_dataframe, color_palette):\n",
    "    \n",
    "    '''this function takes a dataframe and returns a subplots with linegraphs. In every graph, all of the subjects \n",
    "    (except one) are plotted in grey while the main subject of the graph is plotted as a coloured line depending on \n",
    "    the type of correct stimulus during the conditioning'''\n",
    "    \n",
    "    plt.style.use('seaborn-dark')\n",
    "    palette = plt.get_cmap(color_palette)\n",
    "    t = [n for n in range(21)]\n",
    "\n",
    "    index=0\n",
    "    for column in clean_dataframe: \n",
    "        index+=1\n",
    "        plt.subplot(2,3,index)\n",
    "        for col in clean_dataframe: \n",
    "            plt.plot(clean_dataframe.index, clean_dataframe[col], marker='', color='grey', linewidth=0.6, alpha=0.3)\n",
    "        plt.plot(clean_dataframe.index, clean_dataframe[column], marker='', color=palette(index), linewidth=2.4, alpha=0.9, label=column)\n",
    "        plt.xlim(-1,5)\n",
    "        plt.ylim(-0.5,20,4)\n",
    "        plt.yticks(np.arange(min(t), max(t)+1, 5))\n",
    "        plt.axhline(15,linewidth=1,color='black',ls='--')\n",
    "        plt.title(column, loc='left', fontsize=10, fontweight=0, color=palette(index))\n",
    "        if index in range(1,4) :\n",
    "            plt.tick_params(labelbottom='off')\n",
    "        if index not in [1,4] :\n",
    "            plt.tick_params(labelleft='off')\n",
    "\n",
    "    plt.suptitle(f\"Trained with {stimulus}\", fontsize=13, fontweight=0, color='black', style='italic', y=1)\n",
    "\n",
    "    plt.subplots_adjust(left=0.1,\n",
    "                        bottom=0.1,\n",
    "                        right=0.9,\n",
    "                        top=0.9,\n",
    "                        wspace=0.3,\n",
    "                        hspace=0.5)\n",
    "\n",
    "    plt.show()"
   ]
  },
  {
   "cell_type": "code",
   "execution_count": null,
   "id": "8360c2e0-6725-4098-ba29-8f6acc732d87",
   "metadata": {},
   "outputs": [],
   "source": [
    "df = pd.read_excel('Data/corridoio_1_12.xlsx')\n",
    "df"
   ]
  },
  {
   "cell_type": "code",
   "execution_count": null,
   "id": "b061603e-aee8-4d35-a7fa-b3c96a25e514",
   "metadata": {},
   "outputs": [],
   "source": [
    "df_stimulus = df.loc[df['STIMULUS'] == stimulus, :]"
   ]
  },
  {
   "cell_type": "code",
   "execution_count": null,
   "id": "02091876-ff97-4dbd-affc-3da83abe73f9",
   "metadata": {},
   "outputs": [],
   "source": []
  },
  {
   "cell_type": "code",
   "execution_count": null,
   "id": "13a8beb6-22c1-47ac-9aac-e413e3cc5e55",
   "metadata": {},
   "outputs": [],
   "source": [
    "df_stimulus = df.loc[df['STIMULUS'] == stimulus, :]\n",
    "\n",
    "# LP: A better syntax for the next two lines (iloc is 98% of the times to avoid)\n",
    "# could have been:\n",
    "# df_stimulus.set_index(\"FISH\").transpose()\n",
    "df_stimulus_transposed = df_stimulus.transpose()\n",
    "df_stimulus_transposed.columns = df_stimulus_transposed.iloc[0]\n",
    "df_stimulus_transposed = df_stimulus_transposed.drop(['FISH','STIMULUS'], axis=0)"
   ]
  },
  {
   "cell_type": "code",
   "execution_count": null,
   "id": "dbb688d9",
   "metadata": {},
   "outputs": [],
   "source": [
    "# LP: When you do this, I recommend using some naming convention (or separate all the data in subfolders)\n",
    "# and then find names programmatially with Path.glob()!\n",
    "file1 = 'Data/corridoio_1_12.xlsx'\n",
    "file2 = 'Data/corridoio_13_16.xlsx'\n",
    "file3 = 'Data/Padova_1_8.xlsx'\n",
    "file4 = 'Data/padova_hab_7_12.xlsx'\n",
    "\n",
    "# Love the plots :)\n",
    "all_files = [file1, file2, file3, file4]\n",
    "stimuli = [3,9]\n",
    "for file in all_files:\n",
    "    for stimulus in stimuli:\n",
    "        if stimulus == 3:\n",
    "            palette = 'Paired'\n",
    "        else:\n",
    "            palette = 'Dark2'\n",
    "        dataframe = preprocess_dataframe(filepath=file, stimulus=stimulus)\n",
    "        draw_plots(clean_dataframe=dataframe, color_palette=palette)\n",
    "        plt.show()"
   ]
  },
  {
   "cell_type": "code",
   "execution_count": null,
   "id": "7fa5bb9c",
   "metadata": {},
   "outputs": [],
   "source": []
  }
 ],
 "metadata": {
  "kernelspec": {
   "display_name": "Python [conda env:course_env]",
   "language": "python",
   "name": "conda-env-course_env-py"
  },
  "language_info": {
   "codemirror_mode": {
    "name": "ipython",
    "version": 3
   },
   "file_extension": ".py",
   "mimetype": "text/x-python",
   "name": "python",
   "nbconvert_exporter": "python",
   "pygments_lexer": "ipython3",
   "version": "3.9.16"
  }
 },
 "nbformat": 4,
 "nbformat_minor": 5
}
